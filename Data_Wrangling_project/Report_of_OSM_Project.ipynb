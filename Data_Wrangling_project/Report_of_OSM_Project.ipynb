{
 "cells": [
  {
   "cell_type": "markdown",
   "metadata": {},
   "source": [
    "# 波士顿OpenStreetMap数据研究报告\n",
    "\n",
    "\n",
    "## 1.研究区域\n",
    "本项目选择的是美国马赛诸塞州**波士顿**的地图数据集，**下载地址**http://www.openstreetmap.org/relation/2315704#map=10/42.3134/-70.9985 。   \n",
    "选择理由：波士顿拥有悠久的历史，而且是美国著名高校云集的地方，希望能有机会去旅行。通过研究波士顿的OpenStreetMap数据，能够对波士顿的道路、建筑等有进一步了解，并且实践数据清洗过程。    \n",
    "\n",
    "\n"
   ]
  },
  {
   "cell_type": "markdown",
   "metadata": {},
   "source": [
    "## 2.在审查数据时发现的问题\n"
   ]
  },
  {
   "cell_type": "markdown",
   "metadata": {},
   "source": [
    "### 2.1.标签类型问题\n",
    "使用正则表达式审查标签类型时，发现有异常\"tag\"标签(problemchars)，以及含有冒号进行补充说明属性值的\"tag\"标签(lower_colon)。"
   ]
  },
  {
   "cell_type": "code",
   "execution_count": null,
   "metadata": {
    "collapsed": true
   },
   "outputs": [],
   "source": [
    "osm_keys {'problemchars': 3, 'lower': 796417, 'other': 478, 'lower_colon': 114559}"
   ]
  },
  {
   "cell_type": "markdown",
   "metadata": {},
   "source": [
    "### 2.2.标签属性问题\n",
    "\n",
    "审查标签标签类型为\"problemchars\"以及\"lower_colon\"的属性，发现部分可以修正的问题：\n",
    "1. 3个异常标签中含有特殊字符。\n",
    "2. \"addr:state\"州的书写不规范，马赛诸塞州出现\"MASSACHUSETTS\", \"Ma\"， \"MA- MASSACHUSETTS\", \"MA\"等多种写法。\n",
    "3. \"addr:street\"街道的书写不规范，\"Street\",\"Road\",\"Avenue\"等出现多种形式的缩写。"
   ]
  },
  {
   "cell_type": "markdown",
   "metadata": {},
   "source": [
    "## 3.问题处理\n",
    "对于审查数据过程中发现的问题，我分别进行了修正。"
   ]
  },
  {
   "cell_type": "markdown",
   "metadata": {},
   "source": [
    "### 3.1.修正标签\"tag\"异常key值\n",
    "通过函数```correct_key()```修正异常key值。"
   ]
  },
  {
   "cell_type": "code",
   "execution_count": null,
   "metadata": {
    "collapsed": true
   },
   "outputs": [],
   "source": [
    "key_mapping = {\"(new tag)\": \"new_tag\",\n",
    "               \"service area\": \"service_area\",\n",
    "               \"addr:street_1\": \"addr:street\"}"
   ]
  },
  {
   "cell_type": "code",
   "execution_count": null,
   "metadata": {
    "collapsed": true
   },
   "outputs": [],
   "source": [
    "# 修正key值\n",
    "def correct_key(key):\n",
    "    if key in key_mapping.keys():\n",
    "        key = key_mapping[key]\n",
    "    return key "
   ]
  },
  {
   "cell_type": "markdown",
   "metadata": {},
   "source": [
    "### 3.2.修正标签\"tag\"不规范的value值\n",
    "通过函数```correct_value()```分别修正书写不规范的街道以及州的value值。"
   ]
  },
  {
   "cell_type": "code",
   "execution_count": null,
   "metadata": {
    "collapsed": true
   },
   "outputs": [],
   "source": [
    "state_mapping = {'ma': 'MA',\n",
    "                 'MA- MASSACHUSETTS' : 'MA',\n",
    "                 'Ma' : 'MA',\n",
    "                 'Massachusetts' : 'MA'}\n",
    "\n",
    "street_mapping = { \"St\": \"Street\",\n",
    "                    \"St.\": \"Street\",\n",
    "                    \"ST\" : \"Street\",\n",
    "                    \"St\" : \"Street\",\n",
    "                    \"St,\" : \"Street\",\n",
    "                    \"st\" : \"Street\",\n",
    "                    \"street\": \"Street\",\n",
    "                    \"Street.\" : \"Street\",\n",
    "                    \"Rd\" : \"Road\",\n",
    "                    \"Rd.\": \"Road\",\n",
    "                    \"rd.\": \"Road\",\n",
    "                    \"Ave\": \"Avenue\",\n",
    "                    \"Ave.\":\"Avenue\",\n",
    "                    \"HIghway\": \"Highway\",\n",
    "                    \"Pkwy\" : \"Parkway\",\n",
    "                    \"Sq.\" : \"Square\",\n",
    "                    \"Winsor\": \"Winsor\",\n",
    "                     }"
   ]
  },
  {
   "cell_type": "code",
   "execution_count": null,
   "metadata": {
    "collapsed": true
   },
   "outputs": [],
   "source": [
    "# 修正value值\n",
    "def correct_value(key, value):\n",
    "    \n",
    "    if key == 'addr:state':\n",
    "        if value in state_mapping.keys():\n",
    "            value = state_mapping[value]\n",
    "            \n",
    "    if key == 'addr:street':\n",
    "        abbr = value.split(\" \")[-1] \n",
    "        if abbr in street_mapping.keys():\n",
    "            value = value.replace(abbr, street_mapping[abbr]) \n",
    "            \n",
    "    return value"
   ]
  },
  {
   "cell_type": "markdown",
   "metadata": {},
   "source": [
    "### 3.3.修正标签\"tag\"的种类（type)\n",
    "\"tag\"标签含有冒号的key值可以进一步拆分用于表明该标签表示的种类（type）。"
   ]
  },
  {
   "cell_type": "code",
   "execution_count": null,
   "metadata": {
    "collapsed": true
   },
   "outputs": [],
   "source": [
    "# 修正type值    \n",
    "def shape_tag(key):\n",
    "    if LOWER_COLON.search(key):\n",
    "        colon_pos = key.index(\":\")\n",
    "        k = key[colon_pos+1 :]\n",
    "        t = key[: colon_pos]\n",
    "    else:\n",
    "        k = key\n",
    "        t = 'regular'\n",
    "    return k, t   "
   ]
  },
  {
   "cell_type": "markdown",
   "metadata": {},
   "source": [
    "## 3.数据概览"
   ]
  },
  {
   "cell_type": "markdown",
   "metadata": {},
   "source": [
    "### 3.1.文件大小"
   ]
  },
  {
   "cell_type": "code",
   "execution_count": null,
   "metadata": {
    "collapsed": true
   },
   "outputs": [],
   "source": [
    "boston_massachusetts.osm ...... 418 MB    \n",
    "BostonOSM.db .................. 244 MB   \n",
    "nodes.csv ..................... 153 MB   \n",
    "nodes_tags.csv ............... 16.7 MB   \n",
    "ways.csv ..................... 20.0 MB   \n",
    "ways_tags.csv ................ 21.6 MB   \n",
    "ways_nodes.cv ................ 53.0 MB     "
   ]
  },
  {
   "cell_type": "markdown",
   "metadata": {},
   "source": [
    "### 3.2.节点(Nodes)数"
   ]
  },
  {
   "cell_type": "code",
   "execution_count": 2,
   "metadata": {
    "collapsed": true
   },
   "outputs": [],
   "source": [
    "import sqlite3\n",
    "db = sqlite3.connect(\"BostonOSM.db\")\n",
    "cur = db.cursor()"
   ]
  },
  {
   "cell_type": "code",
   "execution_count": 4,
   "metadata": {
    "scrolled": true
   },
   "outputs": [
    {
     "name": "stdout",
     "output_type": "stream",
     "text": [
      "Numbers of Nodes:\n",
      "[(1952868,)]\n"
     ]
    }
   ],
   "source": [
    "cur.execute(\"SELECT count(*) FROM nodes;\")\n",
    "nodes_num = cur.fetchall()\n",
    "print \"Numbers of Nodes:\"\n",
    "print nodes_num"
   ]
  },
  {
   "cell_type": "markdown",
   "metadata": {},
   "source": [
    "### 3.3.途径(Ways)数"
   ]
  },
  {
   "cell_type": "code",
   "execution_count": 6,
   "metadata": {},
   "outputs": [
    {
     "name": "stdout",
     "output_type": "stream",
     "text": [
      "Numbers of Ways:\n",
      "[(311064,)]\n"
     ]
    }
   ],
   "source": [
    "cur.execute(\"SELECT count(*) FROM ways;\")\n",
    "ways_num = cur.fetchall()\n",
    "print \"Numbers of Ways:\"\n",
    "print ways_num"
   ]
  },
  {
   "cell_type": "markdown",
   "metadata": {},
   "source": [
    "### 3.4.街道（street）数"
   ]
  },
  {
   "cell_type": "code",
   "execution_count": 49,
   "metadata": {},
   "outputs": [
    {
     "name": "stdout",
     "output_type": "stream",
     "text": [
      "Number of streets:\n",
      "   [(u'street', 6491)]\n"
     ]
    }
   ],
   "source": [
    "cur.execute(\"SELECT key, count(*) \\\n",
    "            FROM (SELECT key FROM nodes_tags WHERE key = 'street' \\\n",
    "            UNION ALL \\\n",
    "            SELECT key FROM ways_tags WHERE key = 'street') AS all_streets;\")\n",
    "\n",
    "street_num = cur.fetchall()\n",
    "print \"Number of streets:\"\n",
    "print \"  \", street_num"
   ]
  },
  {
   "cell_type": "markdown",
   "metadata": {},
   "source": [
    "### 3.5.唯一用户标识（uid）数\n",
    "由字段```uid```表示，```nodes```，```ways```表中均有用户记录，进行联合查询。"
   ]
  },
  {
   "cell_type": "code",
   "execution_count": 41,
   "metadata": {
    "scrolled": true
   },
   "outputs": [
    {
     "name": "stdout",
     "output_type": "stream",
     "text": [
      "Unique Users:\n",
      "   [(1417,)]\n"
     ]
    }
   ],
   "source": [
    "cur.execute(\"SELECT count(DISTINCT(users.uid)) \\\n",
    "            FROM (SELECT uid FROM nodes \\\n",
    "            UNION ALL \\\n",
    "            SELECT uid FROM ways) AS users;\")\n",
    "unique_users = cur.fetchall()\n",
    "print \"Unique Users:\"\n",
    "print \"  \", unique_users"
   ]
  },
  {
   "cell_type": "markdown",
   "metadata": {},
   "source": [
    "### 3.6.贡献条目前10的用户"
   ]
  },
  {
   "cell_type": "code",
   "execution_count": 50,
   "metadata": {
    "scrolled": true
   },
   "outputs": [
    {
     "name": "stdout",
     "output_type": "stream",
     "text": [
      "TOP 10 Users:\n",
      "   (u'crschmidt', 1034, 1195031)\n",
      "   (u'jremillard-massgis', 1137433, 428670)\n",
      "   (u'wambag', 326503, 111183)\n",
      "   (u'OceanVortex', 354704, 90952)\n",
      "   (u'morganwahl', 221294, 67051)\n",
      "   (u'ryebread', 3216582, 65964)\n",
      "   (u'MassGIS Import', 15750, 58561)\n",
      "   (u'ingalls_imports', 1137518, 32453)\n",
      "   (u'Ahlzen', 81285, 28321)\n",
      "   (u'mapper999', 165061, 14697)\n"
     ]
    }
   ],
   "source": [
    "cur.execute(\"SELECT users.user, users.uid, count(users.uid) as num \\\n",
    "            FROM (SELECT uid, user FROM nodes \\\n",
    "            UNION ALL \\\n",
    "            SELECT uid, user FROM ways) AS users \\\n",
    "            GROUP BY users.uid \\\n",
    "            ORDER BY num DESC \\\n",
    "            LIMIT 10;\")\n",
    "top10_users = cur.fetchall()\n",
    "print \"TOP 10 Users:\"\n",
    "for row in top10_users:\n",
    "    print \"  \", row\n",
    "\n",
    "db.close()"
   ]
  },
  {
   "cell_type": "markdown",
   "metadata": {},
   "source": [
    "## 4.关于数据集的其他想法\n",
    "\n",
    "OpenStreetMap是一个可供自由编辑的世界地图，通过世界各地用户的贡献，\n",
    "带来非常便利的地图资源，但充分的自由度也很容易导致编辑内容不规范的情况，此次清洗数据过程中发现存在多种书写不规范的情况。另外，我查看了国内地区的数据集，甚至存在中文和英文混杂，中文简体和繁体混杂的情况，整体比较杂乱。这非常不利于后续对数据的维护，以及利用数据开展相关项目。 \n",
    "\n",
    "改进建议：在系统中增加一些常用的规范的描述字段，在用户编辑地图时进行提示，引导用户规范输入。    \n",
    "执行该建议的可能带来的益处：可以引导不同用户均按照统一规范编辑地图，降低后续对数据运营和维护的难度。    \n",
    "执行该建议的可能带来的风险：增加一定成本，可能设置约束条件后会影响用户活跃度。"
   ]
  },
  {
   "cell_type": "markdown",
   "metadata": {},
   "source": [
    "## 5.关于项目的小结\n",
    "通过完成此次OpenStreetMap数据集研究，我对数据清洗流程，以及使用SQL语言查询数据库进行数据探索的方法更加熟悉。数据清洗是一个繁复而细致的过程，需要经过多次“发现问题——解决问题”，不断把原始数据整理得更加简洁、齐整，便于后续调用数据进行进一步分析，这是后续进行数据探索分析的基础。目前我还只能进行最简单的数据清理以及查询，今后需要通过不断进行项目实践来提高自己的技能水平。"
   ]
  },
  {
   "cell_type": "markdown",
   "metadata": {},
   "source": [
    "### 参考资料\n",
    "+ Python yield： https://www.ibm.com/developerworks/cn/opensource/os-cn-python-yield/   \n",
    "+ Python enumerate()：http://www.runoob.com/python/python-func-enumerate.html  \n",
    "+ sqlite3导入csv：https://discussions.youdaxue.com/t/p3-csv-sqlite-datatype-mismatch/43246/5"
   ]
  }
 ],
 "metadata": {
  "kernelspec": {
   "display_name": "Python 2",
   "language": "python",
   "name": "python2"
  },
  "language_info": {
   "codemirror_mode": {
    "name": "ipython",
    "version": 2
   },
   "file_extension": ".py",
   "mimetype": "text/x-python",
   "name": "python",
   "nbconvert_exporter": "python",
   "pygments_lexer": "ipython2",
   "version": "2.7.13"
  },
  "toc": {
   "nav_menu": {},
   "number_sections": false,
   "sideBar": true,
   "skip_h1_title": false,
   "toc_cell": false,
   "toc_position": {},
   "toc_section_display": "block",
   "toc_window_display": false
  },
  "varInspector": {
   "cols": {
    "lenName": 16,
    "lenType": 16,
    "lenVar": 40
   },
   "kernels_config": {
    "python": {
     "delete_cmd_postfix": "",
     "delete_cmd_prefix": "del ",
     "library": "var_list.py",
     "varRefreshCmd": "print(var_dic_list())"
    },
    "r": {
     "delete_cmd_postfix": ") ",
     "delete_cmd_prefix": "rm(",
     "library": "var_list.r",
     "varRefreshCmd": "cat(var_dic_list()) "
    }
   },
   "types_to_exclude": [
    "module",
    "function",
    "builtin_function_or_method",
    "instance",
    "_Feature"
   ],
   "window_display": false
  }
 },
 "nbformat": 4,
 "nbformat_minor": 2
}
